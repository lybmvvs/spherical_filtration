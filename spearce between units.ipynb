{
 "cells": [
  {
   "cell_type": "code",
   "execution_count": 2,
   "metadata": {},
   "outputs": [
    {
     "data": {
      "text/plain": [
       "5831.7544910100005"
      ]
     },
     "execution_count": 2,
     "metadata": {},
     "output_type": "execute_result"
    }
   ],
   "source": [
    "a1=[   0,          134.39159979,  263.72788687,  392.16774303,  521.18805495,\n",
    "  646.51161737,  773.7317536,   906.04304124, 1031.35542365, 1162.63737051]\n",
    "sum(a1)"
   ]
  },
  {
   "cell_type": "code",
   "execution_count": 3,
   "metadata": {},
   "outputs": [
    {
     "data": {
      "text/plain": [
       "4757.42304998"
      ]
     },
     "execution_count": 3,
     "metadata": {},
     "output_type": "execute_result"
    }
   ],
   "source": [
    "a2=[ 134.39159979,    0,          129.39136728,  257.84881289,  386.88522273,\n",
    "  512.22887344,  639.45508305,  771.75665996,  897.08594483, 1028.37948601]\n",
    "sum(a2)"
   ]
  },
  {
   "cell_type": "code",
   "execution_count": 4,
   "metadata": {},
   "outputs": [
    {
     "data": {
      "text/plain": [
       "3981.0411738800003"
      ]
     },
     "execution_count": 4,
     "metadata": {},
     "output_type": "execute_result"
    }
   ],
   "source": [
    "a3=[263.72788687, 129.39136728,   0,         128.45927923, 257.49440946,\n",
    " 382.84236338, 510.06960668, 642.36678056, 767.6981486,  898.99133182]\n",
    "sum(a3)"
   ]
  },
  {
   "cell_type": "code",
   "execution_count": 5,
   "metadata": {},
   "outputs": [
    {
     "data": {
      "text/plain": [
       "3467.20694637"
      ]
     },
     "execution_count": 5,
     "metadata": {},
     "output_type": "execute_result"
    }
   ],
   "source": [
    "a4=[392.16774303, 257.84881289, 128.45927923,   0,         129.03871247,\n",
    " 254.38689818, 381.61373467, 513.90888862, 639.24208735, 770.54078993]\n",
    "sum(a4)"
   ]
  },
  {
   "cell_type": "code",
   "execution_count": 6,
   "metadata": {},
   "outputs": [
    {
     "data": {
      "text/plain": [
       "3209.1432324"
      ]
     },
     "execution_count": 6,
     "metadata": {},
     "output_type": "execute_result"
    }
   ],
   "source": [
    "a5=[521.18805495, 386.88522273, 257.49440946, 129.03871247,   0,\n",
    " 125.36424094, 252.58834216, 384.87303755, 510.2077177,  641.50349444]\n",
    "sum(a5)"
   ]
  },
  {
   "cell_type": "code",
   "execution_count": 7,
   "metadata": {},
   "outputs": [
    {
     "data": {
      "text/plain": [
       "3209.1265049"
      ]
     },
     "execution_count": 7,
     "metadata": {},
     "output_type": "execute_result"
    }
   ],
   "source": [
    "a6=[646.51161737, 512.22887344, 382.84236338, 254.38689818, 125.36424094,\n",
    "   0,         127.22786073, 259.53552688, 384.85825477, 516.17086921]\n",
    "sum(a6)"
   ]
  },
  {
   "cell_type": "code",
   "execution_count": 8,
   "metadata": {},
   "outputs": [
    {
     "data": {
      "text/plain": [
       "3463.6272319500004"
      ]
     },
     "execution_count": 8,
     "metadata": {},
     "output_type": "execute_result"
    }
   ],
   "source": [
    "a7=[773.7317536,  639.45508305, 510.06960668, 381.61373467, 252.58834216,\n",
    " 127.22786073,   0,         132.33389727, 257.63747753, 388.96947626]\n",
    "sum(a7)"
   ]
  },
  {
   "cell_type": "code",
   "execution_count": 9,
   "metadata": {},
   "outputs": [
    {
     "data": {
      "text/plain": [
       "3992.8457406399993"
      ]
     },
     "execution_count": 9,
     "metadata": {},
     "output_type": "execute_result"
    }
   ],
   "source": [
    "a8=[906.04304124, 771.75665996, 642.36678056, 513.90888862, 384.87303755,\n",
    " 259.53552688, 132.33389727,   0,         125.35366593, 256.67424263]\n",
    "sum(a8)"
   ]
  },
  {
   "cell_type": "code",
   "execution_count": 10,
   "metadata": {},
   "outputs": [
    {
     "data": {
      "text/plain": [
       "4744.81640796"
      ]
     },
     "execution_count": 10,
     "metadata": {},
     "output_type": "execute_result"
    }
   ],
   "source": [
    "a9=[1031.35542365,  897.08594483,  767.6981486,   639.24208735,  510.2077177,\n",
    "  384.85825477,  257.63747753,  125.35366593,    0,         131.3776876 ]\n",
    "sum(a9)"
   ]
  },
  {
   "cell_type": "code",
   "execution_count": 11,
   "metadata": {},
   "outputs": [
    {
     "data": {
      "text/plain": [
       "5795.24474841"
      ]
     },
     "execution_count": 11,
     "metadata": {},
     "output_type": "execute_result"
    }
   ],
   "source": [
    "a10=[1162.63737051, 1028.37948601,  898.99133182,  770.54078993,  641.50349444,\n",
    "  516.17086921,  388.96947626,  256.67424263,  131.3776876,     0.        ]\n",
    "sum(a10)"
   ]
  }
 ],
 "metadata": {
  "kernelspec": {
   "display_name": "Python 3",
   "language": "python",
   "name": "python3"
  },
  "language_info": {
   "codemirror_mode": {
    "name": "ipython",
    "version": 3
   },
   "file_extension": ".py",
   "mimetype": "text/x-python",
   "name": "python",
   "nbconvert_exporter": "python",
   "pygments_lexer": "ipython3",
   "version": "3.7.6"
  }
 },
 "nbformat": 4,
 "nbformat_minor": 4
}
