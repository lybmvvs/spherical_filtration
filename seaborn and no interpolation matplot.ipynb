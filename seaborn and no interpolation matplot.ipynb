{
 "cells": [
  {
   "cell_type": "code",
   "execution_count": 1,
   "metadata": {},
   "outputs": [],
   "source": [
    "import seaborn as sns\n",
    "import pandas as pd\n",
    "import numpy as np\n",
    "import matplotlib.pyplot as plt\n"
   ]
  },
  {
   "cell_type": "code",
   "execution_count": 2,
   "metadata": {},
   "outputs": [
    {
     "data": {
      "text/html": [
       "<div>\n",
       "<style scoped>\n",
       "    .dataframe tbody tr th:only-of-type {\n",
       "        vertical-align: middle;\n",
       "    }\n",
       "\n",
       "    .dataframe tbody tr th {\n",
       "        vertical-align: top;\n",
       "    }\n",
       "\n",
       "    .dataframe thead th {\n",
       "        text-align: right;\n",
       "    }\n",
       "</style>\n",
       "<table border=\"1\" class=\"dataframe\">\n",
       "  <thead>\n",
       "    <tr style=\"text-align: right;\">\n",
       "      <th></th>\n",
       "      <th>коордната X</th>\n",
       "      <th>координата Y</th>\n",
       "      <th>давление</th>\n",
       "    </tr>\n",
       "  </thead>\n",
       "  <tbody>\n",
       "    <tr>\n",
       "      <th>0</th>\n",
       "      <td>-600</td>\n",
       "      <td>600</td>\n",
       "      <td>202.437500</td>\n",
       "    </tr>\n",
       "    <tr>\n",
       "      <th>1</th>\n",
       "      <td>-600</td>\n",
       "      <td>0</td>\n",
       "      <td>202.437500</td>\n",
       "    </tr>\n",
       "    <tr>\n",
       "      <th>2</th>\n",
       "      <td>-600</td>\n",
       "      <td>-600</td>\n",
       "      <td>202.437500</td>\n",
       "    </tr>\n",
       "    <tr>\n",
       "      <th>3</th>\n",
       "      <td>0</td>\n",
       "      <td>600</td>\n",
       "      <td>202.437500</td>\n",
       "    </tr>\n",
       "    <tr>\n",
       "      <th>4</th>\n",
       "      <td>0</td>\n",
       "      <td>0</td>\n",
       "      <td>97.738777</td>\n",
       "    </tr>\n",
       "  </tbody>\n",
       "</table>\n",
       "</div>"
      ],
      "text/plain": [
       "   коордната X  координата Y    давление\n",
       "0         -600           600  202.437500\n",
       "1         -600             0  202.437500\n",
       "2         -600          -600  202.437500\n",
       "3            0           600  202.437500\n",
       "4            0             0   97.738777"
      ]
     },
     "execution_count": 2,
     "metadata": {},
     "output_type": "execute_result"
    }
   ],
   "source": [
    "x = np.array([-600,-600,-600,0,0,0,100,100,100,200,200,200,300,300,300,400,400,400,500,500,500,600,600,600,700,700,700,800,\n",
    "             800,800,900,900,900,1000,1000,1000,1600,1600,1600])\n",
    "\n",
    "y = np.array([600,0,-600,600,0,-600,600,0,-600,600,0,-600,600,0,-600,600,0,-600,600,0,-600,600,0,-600,600,0,-600,600,0,-600,600,0,-600,600,0,-600,600,0,-600])\n",
    "pressure=np.array([202.4375,202.4375,202.4375,202.4375,97.7387770089102,202.4375,202.4375,97.7387770089102,202.4375,202.4375,97.7387770089102,202.4375,202.4375,97.7387770089102,202.4375,\n",
    "                  202.4375,97.7387770089102,202.4375,202.4375,97.7387770089102,202.4375,202.4375,97.7387770089102,202.4375,\n",
    "                  202.4375,97.7387770089102,202.4375,202.4375,97.7387770089102,202.4375,202.4375,97.7387770089102,202.4375,\n",
    "                  202.4375,97.7387770089102,202.4375,202.4375,202.4375,202.4375])\n",
    "df = pd.DataFrame({\"коордната X\": x,\n",
    "                   \"координата Y\": y,\n",
    "                  \"давление\": pressure})\n",
    "df.head()\n"
   ]
  },
  {
   "cell_type": "code",
   "execution_count": 5,
   "metadata": {},
   "outputs": [
    {
     "data": {
      "text/html": [
       "<div>\n",
       "<style scoped>\n",
       "    .dataframe tbody tr th:only-of-type {\n",
       "        vertical-align: middle;\n",
       "    }\n",
       "\n",
       "    .dataframe tbody tr th {\n",
       "        vertical-align: top;\n",
       "    }\n",
       "\n",
       "    .dataframe thead th {\n",
       "        text-align: right;\n",
       "    }\n",
       "</style>\n",
       "<table border=\"1\" class=\"dataframe\">\n",
       "  <thead>\n",
       "    <tr style=\"text-align: right;\">\n",
       "      <th></th>\n",
       "      <th></th>\n",
       "      <th>давление</th>\n",
       "    </tr>\n",
       "    <tr>\n",
       "      <th>коордната X</th>\n",
       "      <th>координата Y</th>\n",
       "      <th></th>\n",
       "    </tr>\n",
       "  </thead>\n",
       "  <tbody>\n",
       "    <tr>\n",
       "      <th rowspan=\"3\" valign=\"top\">-600</th>\n",
       "      <th>-600</th>\n",
       "      <td>202.437500</td>\n",
       "    </tr>\n",
       "    <tr>\n",
       "      <th>0</th>\n",
       "      <td>202.437500</td>\n",
       "    </tr>\n",
       "    <tr>\n",
       "      <th>600</th>\n",
       "      <td>202.437500</td>\n",
       "    </tr>\n",
       "    <tr>\n",
       "      <th rowspan=\"2\" valign=\"top\">0</th>\n",
       "      <th>-600</th>\n",
       "      <td>202.437500</td>\n",
       "    </tr>\n",
       "    <tr>\n",
       "      <th>0</th>\n",
       "      <td>97.738777</td>\n",
       "    </tr>\n",
       "  </tbody>\n",
       "</table>\n",
       "</div>"
      ],
      "text/plain": [
       "                            давление\n",
       "коордната X координата Y            \n",
       "-600        -600          202.437500\n",
       "             0            202.437500\n",
       "             600          202.437500\n",
       " 0          -600          202.437500\n",
       "             0             97.738777"
      ]
     },
     "execution_count": 5,
     "metadata": {},
     "output_type": "execute_result"
    }
   ],
   "source": [
    "df = df.groupby(['коордната X', 'координата Y']).mean()\n",
    "df.head()"
   ]
  },
  {
   "cell_type": "code",
   "execution_count": 6,
   "metadata": {},
   "outputs": [
    {
     "data": {
      "text/html": [
       "<div>\n",
       "<style scoped>\n",
       "    .dataframe tbody tr th:only-of-type {\n",
       "        vertical-align: middle;\n",
       "    }\n",
       "\n",
       "    .dataframe tbody tr th {\n",
       "        vertical-align: top;\n",
       "    }\n",
       "\n",
       "    .dataframe thead tr th {\n",
       "        text-align: left;\n",
       "    }\n",
       "\n",
       "    .dataframe thead tr:last-of-type th {\n",
       "        text-align: right;\n",
       "    }\n",
       "</style>\n",
       "<table border=\"1\" class=\"dataframe\">\n",
       "  <thead>\n",
       "    <tr>\n",
       "      <th></th>\n",
       "      <th colspan=\"13\" halign=\"left\">давление</th>\n",
       "    </tr>\n",
       "    <tr>\n",
       "      <th>коордната X</th>\n",
       "      <th>-600</th>\n",
       "      <th>0</th>\n",
       "      <th>100</th>\n",
       "      <th>200</th>\n",
       "      <th>300</th>\n",
       "      <th>400</th>\n",
       "      <th>500</th>\n",
       "      <th>600</th>\n",
       "      <th>700</th>\n",
       "      <th>800</th>\n",
       "      <th>900</th>\n",
       "      <th>1000</th>\n",
       "      <th>1600</th>\n",
       "    </tr>\n",
       "    <tr>\n",
       "      <th>координата Y</th>\n",
       "      <th></th>\n",
       "      <th></th>\n",
       "      <th></th>\n",
       "      <th></th>\n",
       "      <th></th>\n",
       "      <th></th>\n",
       "      <th></th>\n",
       "      <th></th>\n",
       "      <th></th>\n",
       "      <th></th>\n",
       "      <th></th>\n",
       "      <th></th>\n",
       "      <th></th>\n",
       "    </tr>\n",
       "  </thead>\n",
       "  <tbody>\n",
       "    <tr>\n",
       "      <th>-600</th>\n",
       "      <td>202.4375</td>\n",
       "      <td>202.437500</td>\n",
       "      <td>202.437500</td>\n",
       "      <td>202.437500</td>\n",
       "      <td>202.437500</td>\n",
       "      <td>202.437500</td>\n",
       "      <td>202.437500</td>\n",
       "      <td>202.437500</td>\n",
       "      <td>202.437500</td>\n",
       "      <td>202.437500</td>\n",
       "      <td>202.437500</td>\n",
       "      <td>202.437500</td>\n",
       "      <td>202.4375</td>\n",
       "    </tr>\n",
       "    <tr>\n",
       "      <th>0</th>\n",
       "      <td>202.4375</td>\n",
       "      <td>97.738777</td>\n",
       "      <td>97.738777</td>\n",
       "      <td>97.738777</td>\n",
       "      <td>97.738777</td>\n",
       "      <td>97.738777</td>\n",
       "      <td>97.738777</td>\n",
       "      <td>97.738777</td>\n",
       "      <td>97.738777</td>\n",
       "      <td>97.738777</td>\n",
       "      <td>97.738777</td>\n",
       "      <td>97.738777</td>\n",
       "      <td>202.4375</td>\n",
       "    </tr>\n",
       "    <tr>\n",
       "      <th>600</th>\n",
       "      <td>202.4375</td>\n",
       "      <td>202.437500</td>\n",
       "      <td>202.437500</td>\n",
       "      <td>202.437500</td>\n",
       "      <td>202.437500</td>\n",
       "      <td>202.437500</td>\n",
       "      <td>202.437500</td>\n",
       "      <td>202.437500</td>\n",
       "      <td>202.437500</td>\n",
       "      <td>202.437500</td>\n",
       "      <td>202.437500</td>\n",
       "      <td>202.437500</td>\n",
       "      <td>202.4375</td>\n",
       "    </tr>\n",
       "  </tbody>\n",
       "</table>\n",
       "</div>"
      ],
      "text/plain": [
       "              давление                                                  \\\n",
       "коордната X      -600         0           100         200         300    \n",
       "координата Y                                                             \n",
       "-600          202.4375  202.437500  202.437500  202.437500  202.437500   \n",
       " 0            202.4375   97.738777   97.738777   97.738777   97.738777   \n",
       " 600          202.4375  202.437500  202.437500  202.437500  202.437500   \n",
       "\n",
       "                                                                          \\\n",
       "коордната X         400         500         600         700         800    \n",
       "координата Y                                                               \n",
       "-600          202.437500  202.437500  202.437500  202.437500  202.437500   \n",
       " 0             97.738777   97.738777   97.738777   97.738777   97.738777   \n",
       " 600          202.437500  202.437500  202.437500  202.437500  202.437500   \n",
       "\n",
       "                                                \n",
       "коордната X         900         1000      1600  \n",
       "координата Y                                    \n",
       "-600          202.437500  202.437500  202.4375  \n",
       " 0             97.738777   97.738777  202.4375  \n",
       " 600          202.437500  202.437500  202.4375  "
      ]
     },
     "execution_count": 6,
     "metadata": {},
     "output_type": "execute_result"
    }
   ],
   "source": [
    "df = df.unstack(level=0)\n",
    "df"
   ]
  },
  {
   "cell_type": "code",
   "execution_count": 7,
   "metadata": {},
   "outputs": [
    {
     "data": {
      "text/plain": [
       "<matplotlib.axes._subplots.AxesSubplot at 0x22b22bd9bc8>"
      ]
     },
     "execution_count": 7,
     "metadata": {},
     "output_type": "execute_result"
    },
    {
     "data": {
      "image/png": "[encoded data removed]",
      "text/plain": [
       "<Figure size 432x288 with 2 Axes>"
      ]
     },
     "metadata": {
      "needs_background": "light"
     },
     "output_type": "display_data"
    }
   ],
   "source": [
    "\n",
    "sns.heatmap(df)"
   ]
  },
  {
   "cell_type": "code",
   "execution_count": 4,
   "metadata": {},
   "outputs": [
    {
     "data": {
      "image/png": "[encoded data removed]",
      "text/plain": [
       "<Figure size 1152x576 with 2 Axes>"
      ]
     },
     "metadata": {
      "needs_background": "light"
     },
     "output_type": "display_data"
    }
   ],
   "source": [
    "n = df.shape[0]\n",
    "fig, ax1 = plt.subplots(1, 1, figsize=(16, 8))\n",
    "\n",
    "im = ax1.scatter(\n",
    "df['коордната X'],\n",
    "df['координата Y'],\n",
    "cmap='rainbow',\n",
    "c=df['давление'],\n",
    "marker='s', # можно любой выбрать, как у тебя точки будут отображаться\n",
    "edgecolors='black', # тоже,\n",
    "s=100) # рамер фигурки)\n",
    "cbar = fig.colorbar(im)\n",
    "cbar.ax.set_ylabel('давление',\n",
    "rotation=-90,\n",
    "va=\"bottom\")\n",
    "    \n",
    "    \n",
    "ax1.set_title('давление')\n",
    "ax1.set_xlabel('X')\n",
    "ax1.set_ylabel('Y')\n",
    "    \n",
    "plt.show()"
   ]
  }
 ],
 "metadata": {
  "kernelspec": {
   "display_name": "Python 3",
   "language": "python",
   "name": "python3"
  },
  "language_info": {
   "codemirror_mode": {
    "name": "ipython",
    "version": 3
   },
   "file_extension": ".py",
   "mimetype": "text/x-python",
   "name": "python",
   "nbconvert_exporter": "python",
   "pygments_lexer": "ipython3",
   "version": "3.7.6"
  }
 },
 "nbformat": 4,
 "nbformat_minor": 4
}
