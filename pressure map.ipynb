{
 "cells": [
  {
   "cell_type": "code",
   "execution_count": 1,
   "metadata": {},
   "outputs": [],
   "source": [
    "import matplotlib.pyplot as plt\n",
    "import numpy as np\n",
    "import math"
   ]
  },
  {
   "cell_type": "code",
   "execution_count": 2,
   "metadata": {},
   "outputs": [],
   "source": [
    "x = np.array([0,10,20,30,40,50,60,70,80,\n",
    "             90,100])\n",
    "\n",
    "y = np.array([0,0,0,0,0,0,0,0,0,0,0])"
   ]
  },
  {
   "cell_type": "code",
   "execution_count": 3,
   "metadata": {},
   "outputs": [
    {
     "data": {
      "image/png": "[encoded data removed]",
      "text/plain": [
       "<Figure size 432x288 with 1 Axes>"
      ]
     },
     "metadata": {
      "needs_background": "light"
     },
     "output_type": "display_data"
    }
   ],
   "source": [
    "# отобразим получившиеся точки на графике\n",
    "fig, ax = plt.subplots()\n",
    "ax.scatter(x, y)\n",
    "ax.set_title('узлы')\n",
    "plt.ylim(-100,100)\n",
    "plt.show()"
   ]
  },
  {
   "cell_type": "code",
   "execution_count": 4,
   "metadata": {},
   "outputs": [],
   "source": [
    "# определяем размер и радиус сетки (h)\n",
    "grid_size = 1\n",
    "h = 10"
   ]
  },
  {
   "cell_type": "code",
   "execution_count": 5,
   "metadata": {},
   "outputs": [],
   "source": [
    "# получение min, max для x и y\n",
    "x_min = min(x)\n",
    "x_max = max(x)\n",
    "y_min = min(y)\n",
    "y_max = max(y)\n",
    "# строим сетку\n",
    "x_grid = np.arange (x_min-h, x_max + h, grid_size)\n",
    "y_grid = np.arange (y_min-h, y_max + h, grid_size)\n",
    "x_mesh, y_mesh = np.meshgrid(x_grid, y_grid)"
   ]
  },
  {
   "cell_type": "code",
   "execution_count": 6,
   "metadata": {},
   "outputs": [],
   "source": [
    "# центральная точка для каждого квадрата сетки\n",
    "xc = x_mesh + (grid_size / 2)\n",
    "yc = y_mesh + (grid_size/ 2)"
   ]
  },
  {
   "cell_type": "code",
   "execution_count": 7,
   "metadata": {},
   "outputs": [],
   "source": [
    "# функция для расчета плотности точек \n",
    "def kde_quartic(d, h):\n",
    "    dn = d / h\n",
    "    P = (15/16) * (1 - dn ** 2) ** 2\n",
    "    return P"
   ]
  },
  {
   "cell_type": "code",
   "execution_count": 8,
   "metadata": {},
   "outputs": [],
   "source": [
    "intensity_list = []\n",
    "for j in range(len(xc)):\n",
    "    intensity_row = []\n",
    "    for k in range(len(xc[0])):\n",
    "        kde_value_list = []\n",
    "        for i in range(len(x)):\n",
    "            #рассчитываем расстояние\n",
    "            d = math.sqrt((xc[j][k] - x[i]) ** 2 + (yc[j][k] - y[i]) ** 2) \n",
    "            if d <= h:\n",
    "                p = kde_quartic(d,h)\n",
    "            else:\n",
    "                p = 0\n",
    "            kde_value_list.append(p)\n",
    "        # суммируем все значения плотности\n",
    "        p_total = sum(kde_value_list)\n",
    "        intensity_row.append(p_total)\n",
    "    intensity_list.append(intensity_row)"
   ]
  },
  {
   "cell_type": "code",
   "execution_count": 9,
   "metadata": {},
   "outputs": [
    {
     "data": {
      "image/png": "[encoded data removed]",
      "text/plain": [
       "<Figure size 432x288 with 2 Axes>"
      ]
     },
     "metadata": {
      "needs_background": "light"
     },
     "output_type": "display_data"
    }
   ],
   "source": [
    "# визуализация тепловой карты\n",
    "intensity = np.array(intensity_list)\n",
    "plt.pcolormesh(x_mesh, y_mesh, intensity)\n",
    "plt.plot(x, y,'ro')\n",
    "plt.colorbar()\n",
    "\n",
    "plt.show()"
   ]
  }
 ],
 "metadata": {
  "kernelspec": {
   "display_name": "Python 3",
   "language": "python",
   "name": "python3"
  },
  "language_info": {
   "codemirror_mode": {
    "name": "ipython",
    "version": 3
   },
   "file_extension": ".py",
   "mimetype": "text/x-python",
   "name": "python",
   "nbconvert_exporter": "python",
   "pygments_lexer": "ipython3",
   "version": "3.7.6"
  }
 },
 "nbformat": 4,
 "nbformat_minor": 4
}
